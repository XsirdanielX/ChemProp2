{
 "cells": [
  {
   "cell_type": "markdown",
   "id": "3bcc6702",
   "metadata": {},
   "source": [
    "## ChemProp2\n",
    "Authors: Abzer Kelminal (abzer.shah@uni-tuebingen.de) <br>\n",
    "Edited by:  <br>\n",
    "Input file format: .txt files <br>\n",
    "Outputs: .csv files  <br>\n",
    "Dependencies: library(ggplot2)"
   ]
  },
  {
   "cell_type": "markdown",
   "id": "13a2bcb3",
   "metadata": {},
   "source": [
    "### About Input files:\n",
    "- **Feature_file** is obtained by performing Feature based Molecular Networking on the data using MZmine software.\n",
    "- **Nw_edge file** has the information of Feature IDs that are similar (not the same) in the columns 'Feature_ID_1' & 'Feature_ID_2'\n",
    "- **Nw_edge file** is an output of GNPS. "
   ]
  },
  {
   "cell_type": "code",
   "execution_count": null,
   "id": "3c92a7d3",
   "metadata": {},
   "outputs": [],
   "source": [
    "# setting the current directory as the working directory\n",
    "setwd('Downloads/ChemProp2_Test') #Example\n",
    "#install.packages('ggplot2') # install the package if not present\n",
    "library(ggplot2)\n",
    "\n",
    "Feature_file <- read.table(\"feature_table_ChemProp2.txt\", sep=\"\\t\", header=TRUE, row.names = 1) # By applying 'row.names = 1', the 1st column 'ID' becomes the row names\n",
    "Meta_File <-read.table(\"metadata_ChemProp2.txt\", sep=\"\\t\",header=TRUE, row.names = 1)\n",
    "Nw_edge <-read.table(\"Network_Edges_ChemProp2.txt\", sep=\"\\t\", header = TRUE)"
   ]
  },
  {
   "cell_type": "code",
   "execution_count": null,
   "id": "ae9d8b05",
   "metadata": {},
   "outputs": [],
   "source": [
    "# head function returns the header (upto first 6 rows)of each files. This gives an idea about the content of the files.\n",
    "head(Feature_file)\n",
    "head(Meta_File)\n",
    "head(Nw_edge)"
   ]
  },
  {
   "cell_type": "code",
   "execution_count": null,
   "id": "4823e516",
   "metadata": {},
   "outputs": [],
   "source": [
    "# If Meta_File Info given in Column-wise\n",
    "#Meta_Data <- Meta_File %>% select(contains(readline('Enter the MetaData Name:')))\n",
    "# If Meta_File Info given in Row-wise\n",
    "Meta_Data <- Meta_File[(readline('Enter the MetaData Name:')),]"
   ]
  },
  {
   "cell_type": "markdown",
   "id": "1f470289",
   "metadata": {},
   "source": [
    "The below code adds a column of *Chemical Proportionality score* to the Nw_edge file. In addition to that, columns with information such as absolute values of ChemProp score and the sign of Chemprop scores are also added."
   ]
  },
  {
   "cell_type": "code",
   "execution_count": null,
   "id": "7ca9e0c3",
   "metadata": {},
   "outputs": [],
   "source": [
    "ChemProp2 <- c()\n",
    "\n",
    "for (i in 1:NROW(Nw_edge)) {\n",
    "  \n",
    "  x<- subset(Feature_file, rownames(Feature_file) == Nw_edge$Feature_ID_1[i]) # rownames(Feature_file) is the feature ID. This line gets the 'Feature ID 1' from the first column of Nw_edge i.e., Feature_ID_1. Then picks the corresponding \n",
    "  x<- rbind(x,subset(Feature_file, rownames(Feature_file) == Nw_edge$Feature_ID_2[i]))\n",
    "  # x is the subset data which has the Feature ID 1 and 2 which are similar according to Nw_edge file.\n",
    "  x<-x[,c(-1:-2)] # Removing the first two columns --> Row m/z and Row Retention Time information\n",
    "  A<-colnames(x) \n",
    "  B<-colnames(Meta_Data)\n",
    "  A==B # Checking the column names of the subset data x against that of meta data.\n",
    "  reorder_id<-match(B,A) #Match gives the position in which B (the column names of Meta data) is present in A (subset data) and store the position info in reorder_id \n",
    "  reordered_x <- x[reorder_id] #Rearranging x (subset data) with respect to the new positions\n",
    "  reordered_x <- rbind(Meta_Data[1,],reordered_x) # With positions of both x and meta data being the same now, it can be combined\n",
    "  \n",
    "  reordered_x <-data.frame(t(reordered_x))  # Transposing the data, thus it contains 3 columns, 'Metadata info. For ex: Time', 'Feature ID 1', 'Feature ID 2'\n",
    "  \n",
    "  corr_result<-cor(reordered_x, method = \"pearson\") # Performing Pearson correlation\n",
    "  ChemProp_score <- (corr_result[1,3] - corr_result[1,2]) / 2 # ChemProp2 score is obtained by: (Pearson(Feature ID 2) - Pearson(Feature ID 1)) / 2\n",
    "  \n",
    "  ChemProp2 <- rbind(ChemProp2, ChemProp_score)\n",
    "}\n",
    " \n",
    "rownames(ChemProp2) <- NULL\n",
    "colnames(ChemProp2) <- 'ChemProp2'\n",
    "\n",
    "Nw_edge_new <- cbind (Nw_edge, ChemProp2)\n",
    "Nw_edge_new <- Nw_edge_new[order(Nw_edge_new$ChemProp2, decreasing = TRUE), ] # Rearranging Nw_edge_new in the decreasing order of ChemProp2 score\n",
    "Abs_ChemProp2 <- abs(Nw_edge_new$ChemProp2)\n",
    "Sign_ChemProp2 <- sign(Nw_edge_new$ChemProp2)\n",
    "\n",
    "ChemProp2_file <- cbind(Nw_edge_new,Abs_ChemProp2,Sign_ChemProp2)\n",
    "write.csv(ChemProp2_file, 'With_ChemProp2_score.csv')"
   ]
  },
  {
   "cell_type": "markdown",
   "id": "670290b3",
   "metadata": {},
   "source": [
    "To visualize the distribution of the sample data against the normal distribution of random numbers:"
   ]
  },
  {
   "cell_type": "code",
   "execution_count": null,
   "id": "cbc34f4c",
   "metadata": {},
   "outputs": [],
   "source": [
    "histplot1 <- data.frame(Length = ChemProp2_file$ChemProp2)\n",
    "histplot2 <- data.frame(Length = rnorm(nrow(histplot1)))\n",
    "\n",
    "histplot1$Type <- 'Sample-Data'\n",
    "histplot2$Type <- 'Random Values'\n",
    "HistPlot <- rbind(histplot1,histplot2)\n",
    "\n",
    "ggplot(HistPlot, aes(Length, fill = Type)) +\n",
    "  geom_histogram(alpha = 0.5, aes(y = ..density..), position = readline('Enter dodge or identity:'))"
   ]
  },
  {
   "cell_type": "code",
   "execution_count": null,
   "id": "0ac7b80c",
   "metadata": {},
   "outputs": [],
   "source": []
  }
 ],
 "metadata": {
  "kernelspec": {
   "display_name": "R",
   "language": "R",
   "name": "ir"
  },
  "language_info": {
   "codemirror_mode": "r",
   "file_extension": ".r",
   "mimetype": "text/x-r-source",
   "name": "R",
   "pygments_lexer": "r",
   "version": "3.6.1"
  }
 },
 "nbformat": 4,
 "nbformat_minor": 5
}
